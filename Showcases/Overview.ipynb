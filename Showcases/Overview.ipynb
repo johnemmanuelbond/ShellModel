{
 "cells": [
  {
   "cell_type": "markdown",
   "metadata": {},
   "source": [
    "# Shell Model Tutorial\n",
    "\n",
    "This notebook serves as an overview of the functionality of the ShellModel library. This code uses a finite-element-analysis approach to track hydrodyamics of particles within fluids of a generalized tensor viscosity (such as liquid crystals). By the end of the tutorial you should be able to form your colloidal particles, compute their hydrodynamic properties, include independently interacting particles, and collect output movies.\n",
    "\n",
    "## 1. [Importing with Git](#git)\n",
    "\n",
    "Learn the basics of how this code is organized and how to bring it into your own notebooks.\n",
    "\n",
    "## 2. [Making Collections](#collections)\n",
    "\n",
    "The essence of the \"Shell Model\": create objects out of spheres to move through a fluid.\n",
    "\n",
    "## 3. [The Analyzer Class](#analyzer)\n",
    "\n",
    "Compute the hydrodynamic properties of collections within a specified fluid.\n",
    "\n",
    "## 4. [Particle Arrays](#arrays)\n",
    "\n",
    "Stitch together several collections into an array of particles, step the particles through time to track motion.\n",
    "\n",
    "## 5. [Making Movies](#movies)\n",
    "\n",
    "Step back and take a wider view of your sedimentation experiments, visualize them through movies and stills.\n",
    "\n",
    "## 6. [Things to Come](#wip)"
   ]
  },
  {
   "cell_type": "markdown",
   "metadata": {},
   "source": [
    "<a id='git'></a>\n",
    "# 1. Importing with Git\n",
    "\n",
    "The Shell Model functions off of five python scripts/classes contained in the ShellModel [repository](https://github.com/johnemmanuelbond/ShellModel).\n",
    "\n",
    "supports.py contains a list of imports (mpl, numpy, etc.) and several quality of life functions that the other classes use frequently. \n",
    "\n",
    "Collections.py is a class to represent a rigid collection of spheres. The class contains code to form a collection out of coordinates, translate, rotate, clone, or merge collections, as well as several preset collections: spheres, cylinders, disks, and (newly) helices.\n",
    "\n",
    "Analyzer.py is a class containing the math used to compute translational and rotational (wip) drag tensors for these collection objects.\n",
    "\n",
    "ParticleArray.py is a class which allows a user to have several collection objects move independently of each other, but still affect each other hydrodynamically via Analyzer.py.\n",
    "\n",
    "ArrayMove.py is a class which uses the functionality of ParticleArray to track the movement of the array over time and turn it into an mp4 or series of stills which best describe the motion.\n",
    "\n",
    "In order to access these classes you will need to download git, and, if you would like, clone the [repository](https://github.com/johnemmanuelbond/ShellModel) into a directory of your choice. However, I will teach you how to do it all directly from a jupyter notebook.\n",
    "\n",
    "Below is the snippet of code I recommend using. It uses the os package to set up a folder called \"ShellModel\" to contain the aforementioned five files. This code doesn't attempt to clone the directory if you already have it, and imports all the classes/functions/definitions from all the five files so you don't need to call them in an awkward way."
   ]
  },
  {
   "cell_type": "code",
   "execution_count": 2,
   "metadata": {},
   "outputs": [
    {
     "name": "stderr",
     "output_type": "stream",
     "text": [
      "Cloning into 'ShellModel'...\n"
     ]
    }
   ],
   "source": [
    "import os\n",
    "\n",
    "gitPath = os.getcwd() + \"\\\\ShellModel\"\n",
    "workPath = os.getcwd()\n",
    "\n",
    "if(os.path.isdir(gitPath)!=True):\n",
    "    !git clone https://github.com/johnemmanuelbond/ShellModel\n",
    "        \n",
    "os.chdir(gitPath)\n",
    "from supports import *\n",
    "from Collections import *\n",
    "from Analyzer import *\n",
    "from ParticleArray import *\n",
    "from ArrayMovie import *\n",
    "os.chdir(workPath)"
   ]
  },
  {
   "cell_type": "markdown",
   "metadata": {},
   "source": [
    "One caveat, if you'd like to"
   ]
  },
  {
   "cell_type": "code",
   "execution_count": 4,
   "metadata": {
    "jupyter": {
     "source_hidden": true
    }
   },
   "outputs": [],
   "source": [
    "# code used for importing into this notebook on my PC\n",
    "\n",
    "import os\n",
    "\n",
    "gitPath = \"C:\\\\Users\\\\johne\\\\Physics Research\\\\Liquid Crystals\\\\PythonClasses\"\n",
    "workPath = \"C:\\\\Users\\\\johne\\\\Physics Research\\\\Liquid Crystals\\\\ShellModelNotebooks\"\n",
    "\n",
    "os.chdir(gitPath)\n",
    "from supports import *\n",
    "from Collections import *\n",
    "from Analyzer import *\n",
    "from ParticleArray import *\n",
    "from ArrayMovie import *\n",
    "os.chdir(workPath)"
   ]
  },
  {
   "cell_type": "markdown",
   "metadata": {},
   "source": [
    "<a id='collections'></a>\n",
    "# 2. Collections"
   ]
  },
  {
   "cell_type": "markdown",
   "metadata": {},
   "source": [
    "<a id='analyzer'></a>\n",
    "# 3. The Analyzer Class"
   ]
  },
  {
   "cell_type": "markdown",
   "metadata": {},
   "source": [
    "<a id='arrays'></a>\n",
    "# 4. Particle Arrays"
   ]
  },
  {
   "cell_type": "markdown",
   "metadata": {},
   "source": [
    "<a id='movies'></a>\n",
    "# 5. Making Movies"
   ]
  },
  {
   "cell_type": "markdown",
   "metadata": {},
   "source": [
    "<a id='wip'></a>\n",
    "# 6. Things to Come"
   ]
  },
  {
   "cell_type": "code",
   "execution_count": null,
   "metadata": {},
   "outputs": [],
   "source": []
  }
 ],
 "metadata": {
  "kernelspec": {
   "display_name": "Python 3",
   "language": "python",
   "name": "python3"
  },
  "language_info": {
   "codemirror_mode": {
    "name": "ipython",
    "version": 3
   },
   "file_extension": ".py",
   "mimetype": "text/x-python",
   "name": "python",
   "nbconvert_exporter": "python",
   "pygments_lexer": "ipython3",
   "version": "3.7.4"
  }
 },
 "nbformat": 4,
 "nbformat_minor": 4
}
